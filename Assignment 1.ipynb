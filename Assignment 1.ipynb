{
 "cells": [
  {
   "cell_type": "code",
   "execution_count": 1,
   "metadata": {},
   "outputs": [
    {
     "name": "stdout",
     "output_type": "stream",
     "text": [
      "Enter a Natural Number10\n"
     ]
    }
   ],
   "source": [
    "# Write a program find square root of a number\n",
    "\n",
    "a=int(input(\"Enter a Natural Number\"))\n",
    "a**0.5\n",
    "i=1\n",
    "while i<=round(a/2)+1:\n",
    "    if i*i==a:\n",
    "        print(i)\n",
    "        break\n",
    "    i=i+1"
   ]
  },
  {
   "cell_type": "code",
   "execution_count": 2,
   "metadata": {},
   "outputs": [
    {
     "name": "stdout",
     "output_type": "stream",
     "text": [
      "Enter a Natural Number10\n",
      "3.162277660168379\n"
     ]
    }
   ],
   "source": [
    "number=int(input(\"Enter a Natural Number\"))\n",
    "squareRoot = number / 2\n",
    "t=0\n",
    "while (t - squareRoot) != 0:\n",
    "    t = squareRoot\n",
    "    squareRoot = (t + (number / t)) / 2\n",
    "print(squareRoot)"
   ]
  },
  {
   "cell_type": "code",
   "execution_count": 3,
   "metadata": {},
   "outputs": [
    {
     "name": "stdout",
     "output_type": "stream",
     "text": [
      "First Side of triangle3\n",
      "Second Side of triangle4\n",
      "Third Side of Triangle5\n",
      "6.0\n"
     ]
    }
   ],
   "source": [
    "# Python Program to find the area of triangle\n",
    "\n",
    "a=int(input(\"First Side of triangle\"))\n",
    "b=int(input(\"Second Side of triangle\"))\n",
    "c=int(input(\"Third Side of Triangle\"))\n",
    "s=(a+b+c)/2\n",
    "area=(s*(s-a)*(s-b)*(s-c))**0.5\n",
    "print(area)"
   ]
  },
  {
   "cell_type": "code",
   "execution_count": 4,
   "metadata": {},
   "outputs": [
    {
     "name": "stdout",
     "output_type": "stream",
     "text": [
      "2 3\n"
     ]
    }
   ],
   "source": [
    "# Python program to swap two variables provided by the user without temporary variable\n",
    "\n",
    "a=3\n",
    "b=2\n",
    "a,b=b,a\n",
    "print(a,b)"
   ]
  },
  {
   "cell_type": "code",
   "execution_count": 5,
   "metadata": {},
   "outputs": [
    {
     "name": "stdout",
     "output_type": "stream",
     "text": [
      "Enter a Year2100\n",
      "2100 is not a leap year\n"
     ]
    }
   ],
   "source": [
    "# Python program to check if the input year is a leap year or not\n",
    "a=int(input(\"Enter a Year\"))\n",
    "if a%100!=0:\n",
    "    if a%4==0:\n",
    "        print(a,\"is a leap year\")\n",
    "    else:\n",
    "        print(a,\"is not a leap year\")\n",
    "else:\n",
    "    if a%400==0:\n",
    "        print(a,\"is a leap year\")\n",
    "    else:\n",
    "        print(a,\"is not a leap year\")"
   ]
  },
  {
   "cell_type": "code",
   "execution_count": 6,
   "metadata": {},
   "outputs": [
    {
     "name": "stdout",
     "output_type": "stream",
     "text": [
      "nth term of fibonacci series10\n",
      "0\n",
      "1\n",
      "1\n",
      "2\n",
      "3\n",
      "5\n",
      "8\n",
      "13\n",
      "21\n",
      "34\n"
     ]
    }
   ],
   "source": [
    "# Program to display the Fibonacci sequence up to n-th term where n is provided by the user\n",
    "\n",
    "n=int(input(\"nth term of fibonacci series\"))\n",
    "a=0\n",
    "b=1\n",
    "temp=0\n",
    "i=1\n",
    "while i<=n:\n",
    "    print(a)\n",
    "    temp=b\n",
    "    b=a+b\n",
    "    a=temp\n",
    "    i=i+1\n"
   ]
  },
  {
   "cell_type": "code",
   "execution_count": 7,
   "metadata": {},
   "outputs": [
    {
     "name": "stdout",
     "output_type": "stream",
     "text": [
      "Enter a number10\n",
      "[0, 1, 1, 2, 3, 5, 8, 13, 21, 34]\n"
     ]
    }
   ],
   "source": [
    "# Fibonacci series by recursive function\n",
    "n=int(input(\"Enter a number\"))\n",
    "def fibo(n):\n",
    "    if(n<=1):\n",
    "        return n\n",
    "    else:\n",
    "        return (fibo(n-1)+fibo(n-2))\n",
    "i=0\n",
    "b=[]\n",
    "while(i<n):\n",
    "    b.append(fibo(i))\n",
    "    i=i+1\n",
    "print(b)"
   ]
  },
  {
   "cell_type": "code",
   "execution_count": 8,
   "metadata": {},
   "outputs": [
    {
     "name": "stdout",
     "output_type": "stream",
     "text": [
      "Enter any number: 153\n",
      "The number is an armstrong number. \n"
     ]
    }
   ],
   "source": [
    "# Python program to check if the number provided by the user is an Armstrong number or not\n",
    "\n",
    "\n",
    "n=int(input(\"Enter any number: \"))\n",
    "a=list(map(int,str(n)))\n",
    "b=list(map(lambda x:x**len(str(n)),a))\n",
    "if(sum(b)==n):\n",
    "    print(\"The number is an armstrong number. \")\n",
    "else:\n",
    "    print(\"The number isn't an arsmtrong number. \")"
   ]
  },
  {
   "cell_type": "code",
   "execution_count": 9,
   "metadata": {},
   "outputs": [
    {
     "name": "stdout",
     "output_type": "stream",
     "text": [
      "Enter any number: 10\n"
     ]
    },
    {
     "data": {
      "text/plain": [
       "[2, 4, 8, 16, 32, 64, 128, 256, 512]"
      ]
     },
     "execution_count": 9,
     "metadata": {},
     "output_type": "execute_result"
    }
   ],
   "source": [
    "# Python Program to display the powers of 2 using anonymous function\n",
    "\n",
    "n1=int(input(\"Enter any number: \"))\n",
    "y=range(1,n1)\n",
    "list(map(lambda x:2**x,y))\n",
    "#[2**i for i in range(1,10)]\n"
   ]
  }
 ],
 "metadata": {
  "kernelspec": {
   "display_name": "Python 3",
   "language": "python",
   "name": "python3"
  },
  "language_info": {
   "codemirror_mode": {
    "name": "ipython",
    "version": 3
   },
   "file_extension": ".py",
   "mimetype": "text/x-python",
   "name": "python",
   "nbconvert_exporter": "python",
   "pygments_lexer": "ipython3",
   "version": "3.6.3"
  }
 },
 "nbformat": 4,
 "nbformat_minor": 2
}
